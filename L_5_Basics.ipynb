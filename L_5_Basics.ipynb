{
  "nbformat": 4,
  "nbformat_minor": 0,
  "metadata": {
    "colab": {
      "provenance": []
    },
    "kernelspec": {
      "name": "python3",
      "display_name": "Python 3"
    },
    "language_info": {
      "name": "python"
    }
  },
  "cells": [
    {
      "cell_type": "markdown",
      "source": [
        "# IF ELSE statement in Python"
      ],
      "metadata": {
        "id": "Md0D7LFJAC5w"
      }
    },
    {
      "cell_type": "code",
      "execution_count": 1,
      "metadata": {
        "colab": {
          "base_uri": "https://localhost:8080/"
        },
        "id": "3k7Xk9VR_9Mf",
        "outputId": "4d798f26-d3c2-40b4-f926-127722e99d67"
      },
      "outputs": [
        {
          "output_type": "stream",
          "name": "stdout",
          "text": [
            "b is the greates number\n"
          ]
        }
      ],
      "source": [
        "a = 20\n",
        "b = 50\n",
        "if(a>b):\n",
        "  print(\"a is the greatest number\")\n",
        "else:\n",
        "  print(\"b is the greates number\")"
      ]
    },
    {
      "cell_type": "code",
      "source": [
        "a = int(input('Enter the first number: '))\n",
        "b = int(input('Enter the second number: '))\n",
        "if(a>b):\n",
        "  print(\"First number is the greatest number: \")\n",
        "else:\n",
        "  print(\"Second number is the greates number: \")"
      ],
      "metadata": {
        "colab": {
          "base_uri": "https://localhost:8080/"
        },
        "id": "c3cpgWx-AjXd",
        "outputId": "93d7bf29-c0fc-4de5-a2ae-9e63ea112a91"
      },
      "execution_count": 2,
      "outputs": [
        {
          "output_type": "stream",
          "name": "stdout",
          "text": [
            "Enter the first number: 50\n",
            "Enter the second number: 5\n",
            "First number is the greatest number: \n"
          ]
        }
      ]
    },
    {
      "cell_type": "markdown",
      "source": [
        "## elif statement"
      ],
      "metadata": {
        "id": "TnK3ZLjRBF3G"
      }
    },
    {
      "cell_type": "code",
      "source": [
        "name = input(\"What is your name\")\n",
        "if(name==\"Mohamed\"):\n",
        "  print(\"Welcome mr Mohame\")\n",
        "elif(name==\"Amal\"):\n",
        "  print(\"Welcome 5alti amal\")\n",
        "else:\n",
        "  print(\"Just Welcome\")\n"
      ],
      "metadata": {
        "colab": {
          "base_uri": "https://localhost:8080/"
        },
        "id": "aYFRAJHTBFkX",
        "outputId": "c9ccbd3e-c4e2-49bc-ba7b-2c76a9e90eee"
      },
      "execution_count": 5,
      "outputs": [
        {
          "output_type": "stream",
          "name": "stdout",
          "text": [
            "What is your nameAmal\n",
            "Welcome 5alti amal\n"
          ]
        }
      ]
    }
  ]
}