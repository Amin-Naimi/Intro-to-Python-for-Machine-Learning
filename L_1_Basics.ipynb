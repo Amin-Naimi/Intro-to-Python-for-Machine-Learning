{
  "cells": [
    {
      "cell_type": "markdown",
      "metadata": {
        "id": "hNPxDVVBksVI"
      },
      "source": [
        "# print function :"
      ]
    },
    {
      "cell_type": "code",
      "execution_count": null,
      "metadata": {
        "colab": {
          "base_uri": "https://localhost:8080/"
        },
        "id": "xlYQ5NeOTYWz",
        "outputId": "bb199cea-7a40-472d-fe60-3ee99770c154"
      },
      "outputs": [
        {
          "name": "stdout",
          "output_type": "stream",
          "text": [
            "Hello Machine Learnin\n"
          ]
        }
      ],
      "source": [
        "print(\"Hello Machine Learning\")"
      ]
    },
    {
      "cell_type": "code",
      "execution_count": null,
      "metadata": {
        "colab": {
          "base_uri": "https://localhost:8080/"
        },
        "id": "8FKnlg8LhL-3",
        "outputId": "955ab146-457d-419c-d512-1932312b084d"
      },
      "outputs": [
        {
          "name": "stdout",
          "output_type": "stream",
          "text": [
            "Hello Mohamed\n"
          ]
        }
      ],
      "source": [
        "print(\"Hello\" + \" Mohamed\")"
      ]
    },
    {
      "cell_type": "markdown",
      "metadata": {
        "id": "abykDMYsjCw7"
      },
      "source": [
        "# Basic Data Types :\n",
        " >int\n",
        "\n",
        " >str\n",
        "\n",
        " >float\n",
        "\n",
        " >bool\n"
      ]
    },
    {
      "cell_type": "code",
      "execution_count": null,
      "metadata": {
        "colab": {
          "base_uri": "https://localhost:8080/"
        },
        "id": "QU7r9zk7iNwa",
        "outputId": "77a3e554-7bcb-449a-ddda-e6aecc087441"
      },
      "outputs": [
        {
          "data": {
            "text/plain": [
              "bool"
            ]
          },
          "execution_count": 10,
          "metadata": {},
          "output_type": "execute_result"
        }
      ],
      "source": [
        "type(\"bonjour\")\n",
        "type(5)\n",
        "type(False)"
      ]
    },
    {
      "cell_type": "markdown",
      "metadata": {
        "id": "FAbCIDawi5VM"
      },
      "source": [
        "# Constants & Varibles :"
      ]
    },
    {
      "cell_type": "code",
      "execution_count": null,
      "metadata": {
        "colab": {
          "base_uri": "https://localhost:8080/"
        },
        "id": "nKLtT5NVjY_m",
        "outputId": "c7873e7f-5c2d-4182-d1f7-f8062ff7cd68"
      },
      "outputs": [],
      "source": [
        "superHero = \"Mohamed\"\n",
        "print(superHero)\n",
        "superHero = \"Amin\"\n",
        "print(superHero)\n"
      ]
    },
    {
      "cell_type": "markdown",
      "metadata": {
        "id": "00tDozpIlUhO"
      },
      "source": [
        "# input function :"
      ]
    },
    {
      "cell_type": "code",
      "execution_count": null,
      "metadata": {
        "colab": {
          "base_uri": "https://localhost:8080/"
        },
        "id": "9Ps46pX4lmyz",
        "outputId": "03007e6b-15cc-45b9-ca0f-c1dd128e2b29"
      },
      "outputs": [],
      "source": [
        "number = int(input(\"Enter the first number: \"))\n",
        "number_1 = int(input(\"Enter the second number: \"))\n",
        "sum = number + number_1\n",
        "print(sum)# The sum \"1010\" to selove it add : int(input(\"Enter the first number: \"))"
      ]
    },
    {
      "cell_type": "code",
      "execution_count": null,
      "metadata": {
        "colab": {
          "base_uri": "https://localhost:8080/"
        },
        "id": "RYMSkJZnms5f",
        "outputId": "32230b4f-c5f2-45f3-fc8b-dc841bd29b3c"
      },
      "outputs": [
        {
          "name": "stdout",
          "output_type": "stream",
          "text": [
            "10\n"
          ]
        }
      ],
      "source": [
        "# Changing data type in pythone:\n",
        "num = 10\n",
        "type(num)\n",
        "print(float(num))\n"
      ]
    }
  ],
  "metadata": {
    "colab": {
      "collapsed_sections": [
        "hNPxDVVBksVI",
        "abykDMYsjCw7",
        "FAbCIDawi5VM"
      ],
      "provenance": []
    },
    "kernelspec": {
      "display_name": "Python 3",
      "name": "python3"
    },
    "language_info": {
      "name": "python"
    }
  },
  "nbformat": 4,
  "nbformat_minor": 0
}
