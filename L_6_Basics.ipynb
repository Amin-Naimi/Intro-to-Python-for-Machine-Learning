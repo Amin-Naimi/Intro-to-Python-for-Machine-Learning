{
  "nbformat": 4,
  "nbformat_minor": 0,
  "metadata": {
    "colab": {
      "provenance": []
    },
    "kernelspec": {
      "name": "python3",
      "display_name": "Python 3"
    },
    "language_info": {
      "name": "python"
    }
  },
  "cells": [
    {
      "cell_type": "markdown",
      "source": [
        "# Loops in Python"
      ],
      "metadata": {
        "id": "SE_4wm2riSsG"
      }
    },
    {
      "cell_type": "markdown",
      "source": [
        "## For loop"
      ],
      "metadata": {
        "id": "X_dGkwLMj78Q"
      }
    },
    {
      "cell_type": "code",
      "source": [
        "#laptop = int(input(\"Enter the price of the laptop: \"))\n",
        "for i in range(4):\n",
        "  laptop_price = int(input(\"Enter the price of the laptop: \"))"
      ],
      "metadata": {
        "colab": {
          "base_uri": "https://localhost:8080/"
        },
        "id": "POH-i6MSiaLA",
        "outputId": "74e6ee33-0fdc-44c6-db6a-03a76f7f6afd"
      },
      "execution_count": 4,
      "outputs": [
        {
          "name": "stdout",
          "output_type": "stream",
          "text": [
            "Enter the price of the laptop: 20\n",
            "Enter the price of the laptop: 50\n",
            "Enter the price of the laptop: 30\n",
            "Enter the price of the laptop: 1\n"
          ]
        }
      ]
    },
    {
      "cell_type": "code",
      "source": [
        "numbers = [50,100,150,200]\n",
        "for i in range(len(numbers)):\n",
        "  print(numbers[i])\n",
        "\n",
        "for j in numbers:\n",
        "  print(j)"
      ],
      "metadata": {
        "colab": {
          "base_uri": "https://localhost:8080/"
        },
        "id": "zQmFAK2Hk26A",
        "outputId": "e4f75856-0a4f-44ad-d0b3-16eb24e0b9b7"
      },
      "execution_count": 7,
      "outputs": [
        {
          "output_type": "stream",
          "name": "stdout",
          "text": [
            "50\n",
            "100\n",
            "150\n",
            "200\n",
            "50\n",
            "100\n",
            "150\n",
            "200\n"
          ]
        }
      ]
    },
    {
      "cell_type": "markdown",
      "source": [
        "## While Loop"
      ],
      "metadata": {
        "id": "4xwn62vElfXH"
      }
    },
    {
      "cell_type": "code",
      "source": [
        "i = 0;\n",
        "while i < 10:\n",
        " print(i)\n",
        " i+=1"
      ],
      "metadata": {
        "colab": {
          "base_uri": "https://localhost:8080/"
        },
        "id": "ld6LzXUbliwV",
        "outputId": "34afafe8-32d7-43c9-90d7-8bfa1917645d"
      },
      "execution_count": 13,
      "outputs": [
        {
          "output_type": "stream",
          "name": "stdout",
          "text": [
            "0\n",
            "1\n",
            "2\n",
            "3\n",
            "4\n",
            "5\n",
            "6\n",
            "7\n",
            "8\n",
            "9\n"
          ]
        }
      ]
    }
  ]
}