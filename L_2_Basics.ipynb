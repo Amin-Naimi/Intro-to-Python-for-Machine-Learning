{
  "nbformat": 4,
  "nbformat_minor": 0,
  "metadata": {
    "colab": {
      "provenance": []
    },
    "kernelspec": {
      "name": "python3",
      "display_name": "Python 3"
    },
    "language_info": {
      "name": "python"
    }
  },
  "cells": [
    {
      "cell_type": "markdown",
      "source": [
        "# Basic Data Type in Python :\n",
        "\n",
        "1 Integer\n",
        "\n",
        "2 Floating Point\n",
        "\n",
        "3 Complex\n",
        "\n",
        "4 Boolean\n",
        "\n",
        "5 String\n"
      ],
      "metadata": {
        "id": "zHpyU7IYoRzO"
      }
    },
    {
      "cell_type": "code",
      "execution_count": 3,
      "metadata": {
        "colab": {
          "base_uri": "https://localhost:8080/"
        },
        "id": "UdK3l9QmoLLJ",
        "outputId": "6746936d-e471-4d69-8c52-d4b7f89b8ab0"
      },
      "outputs": [
        {
          "output_type": "stream",
          "name": "stdout",
          "text": [
            "(3+5j)\n"
          ]
        },
        {
          "output_type": "execute_result",
          "data": {
            "text/plain": [
              "complex"
            ]
          },
          "metadata": {},
          "execution_count": 3
        }
      ],
      "source": [
        "# Complex Numnbers\n",
        "c = 3 + 5j\n",
        "print(c)\n",
        "type (c)\n",
        ""
      ]
    },
    {
      "cell_type": "code",
      "source": [
        "# String :\n",
        "print(\"Bonjour\" * 5)\n",
        "text = \"machinelearning\"\n",
        "print(text[0:8]) # machinel\n"
      ],
      "metadata": {
        "colab": {
          "base_uri": "https://localhost:8080/"
        },
        "id": "WnhD1zl1sV4H",
        "outputId": "070d4517-dff9-40b5-c91e-63bf8ca438bd"
      },
      "execution_count": 11,
      "outputs": [
        {
          "output_type": "stream",
          "name": "stdout",
          "text": [
            "BonjourBonjourBonjourBonjourBonjour\n",
            "machinel\n"
          ]
        }
      ]
    },
    {
      "cell_type": "code",
      "source": [
        "#step\n",
        "text = \"machinelearning\"\n",
        "print(text[0:4:3]) # \"mh\"\n",
        "\n",
        "# m -> 0\n",
        "# a -> 1\n",
        "# c -> 3\n",
        "# h -> 4"
      ],
      "metadata": {
        "colab": {
          "base_uri": "https://localhost:8080/"
        },
        "id": "4vjDfzFJuDue",
        "outputId": "c3653aa9-8ee3-47dc-df57-f094e7af25d7"
      },
      "execution_count": 14,
      "outputs": [
        {
          "output_type": "stream",
          "name": "stdout",
          "text": [
            "mh\n"
          ]
        }
      ]
    }
  ]
}