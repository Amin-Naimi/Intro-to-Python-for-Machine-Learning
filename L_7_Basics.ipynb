{
  "nbformat": 4,
  "nbformat_minor": 0,
  "metadata": {
    "colab": {
      "provenance": []
    },
    "kernelspec": {
      "name": "python3",
      "display_name": "Python 3"
    },
    "language_info": {
      "name": "python"
    }
  },
  "cells": [
    {
      "cell_type": "markdown",
      "source": [
        "# Functions in Python"
      ],
      "metadata": {
        "id": "koBEF3hIqo5E"
      }
    },
    {
      "cell_type": "code",
      "execution_count": 4,
      "metadata": {
        "colab": {
          "base_uri": "https://localhost:8080/"
        },
        "id": "BiYBjzTKn0Pg",
        "outputId": "2a38ba0b-c54d-4fa6-b4b4-94767f1f15ba"
      },
      "outputs": [
        {
          "output_type": "stream",
          "name": "stdout",
          "text": [
            "Donner un nomber Pour trouver son factoriel: 0\n",
            "le fact de 0 est 1\n"
          ]
        }
      ],
      "source": [
        "fact = 1\n",
        "number = int(input(\"Donner un nomber Pour trouver son factoriel: \"))\n",
        "if(number == 0):\n",
        "  print(\"le fact de 0 est 1\")\n",
        "else:\n",
        "  for i in range(1,number + 1,1):\n",
        "    fact = i * fact;\n",
        "  print(fact)\n"
      ]
    },
    {
      "cell_type": "markdown",
      "source": [
        "## Factorial Function"
      ],
      "metadata": {
        "id": "kqOGZVnxqy-z"
      }
    },
    {
      "cell_type": "code",
      "source": [
        "def factorial_value(num):\n",
        "  factorial = 1;\n",
        "  if num == 0:\n",
        "    print(\"le fact de 0 est 1\")\n",
        "  else:\n",
        "    for i in range(1,num+1,1):\n",
        "      factorial = i*factorial\n",
        "    return factorial\n",
        "\n",
        "print(factorial_value(5))"
      ],
      "metadata": {
        "colab": {
          "base_uri": "https://localhost:8080/"
        },
        "id": "4ML0VSlfqwcL",
        "outputId": "ac38e91d-1955-4222-9c1a-0ac18907c015"
      },
      "execution_count": 7,
      "outputs": [
        {
          "output_type": "stream",
          "name": "stdout",
          "text": [
            "120\n"
          ]
        }
      ]
    }
  ]
}