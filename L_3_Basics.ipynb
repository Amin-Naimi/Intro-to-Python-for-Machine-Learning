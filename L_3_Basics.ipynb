{
  "nbformat": 4,
  "nbformat_minor": 0,
  "metadata": {
    "colab": {
      "provenance": [],
      "collapsed_sections": [
        "0_XlgEArxXfA"
      ]
    },
    "kernelspec": {
      "name": "python3",
      "display_name": "Python 3"
    },
    "language_info": {
      "name": "python"
    }
  },
  "cells": [
    {
      "cell_type": "markdown",
      "source": [
        "# List, Tuple, Set, Dictionary :\n",
        "\n",
        "## Types of objects in Python :\n",
        "\n",
        "#####1. Immutable Objects\n",
        "#####2. Mutable Objects\n",
        "\n",
        "##1 Immutable Objects:\n",
        "1. int\n",
        "\n",
        "2. float\n",
        "\n",
        "3. string\n",
        "\n",
        "4. bool\n",
        "\n",
        "5. tuple\n",
        "\n",
        "##2 Mutable Objects :\n",
        "1. List\n",
        "2. Set\n",
        "3. Dictionary"
      ],
      "metadata": {
        "id": "4nNzJ_1Xvo7l"
      }
    },
    {
      "cell_type": "markdown",
      "source": [
        "# List"
      ],
      "metadata": {
        "id": "0_XlgEArxXfA"
      }
    },
    {
      "cell_type": "code",
      "source": [
        "list_ = [1,2,3,4,5]\n",
        "print(list_)\n",
        "type(list_)"
      ],
      "metadata": {
        "colab": {
          "base_uri": "https://localhost:8080/"
        },
        "id": "3yc7XFKJxbrb",
        "outputId": "063a8f6a-7ae5-47ec-8b9b-e381eb4edce8"
      },
      "execution_count": 16,
      "outputs": [
        {
          "output_type": "stream",
          "name": "stdout",
          "text": [
            "[1, 2, 3, 4, 5]\n"
          ]
        },
        {
          "output_type": "execute_result",
          "data": {
            "text/plain": [
              "list"
            ]
          },
          "metadata": {},
          "execution_count": 16
        }
      ]
    },
    {
      "cell_type": "code",
      "execution_count": 17,
      "metadata": {
        "colab": {
          "base_uri": "https://localhost:8080/"
        },
        "id": "b8_epr4Pvh9l",
        "outputId": "23aec3f0-e932-499c-84f9-05db2f712b91"
      },
      "outputs": [
        {
          "output_type": "stream",
          "name": "stdout",
          "text": [
            "['Mohamed', 4, 5.82, True]\n"
          ]
        }
      ],
      "source": [
        "list_=[\"Mohamed\", 4, 5.82, True]\n",
        "print(list_)"
      ]
    },
    {
      "cell_type": "code",
      "source": [
        "# add elements to a list\n",
        "\n",
        "list_ = [\"Mohamed\", 4, 5.82, True]\n",
        "list_.append(\"Naimi\")\n",
        "print(list_)#['Mohamed', 4, 5.82, True, 'Naimi']\n",
        "print(list_[2]) #5.82\n",
        "\n",
        "# --> lists allow duplicate values:\n",
        "list_1 = [1,2,1,2];\n",
        "print(list_1)\n",
        "\n",
        "# list size:\n",
        "print(len(list_1))\n",
        "\n",
        "# initiating an empty list\n",
        "\n",
        "list_2 = []\n",
        "list_2.append(20)\n",
        "print(list_2)\n"
      ],
      "metadata": {
        "colab": {
          "base_uri": "https://localhost:8080/"
        },
        "id": "uXpr6ScwyPcc",
        "outputId": "5840cd4a-fd55-41d6-fc81-50df73a59eb7"
      },
      "execution_count": 18,
      "outputs": [
        {
          "output_type": "stream",
          "name": "stdout",
          "text": [
            "['Mohamed', 4, 5.82, True, 'Naimi']\n",
            "5.82\n",
            "[1, 2, 1, 2]\n",
            "4\n",
            "[20]\n"
          ]
        }
      ]
    },
    {
      "cell_type": "code",
      "source": [
        "# delete an item in a list\n",
        "list_1 = [\"Mohamed\", 5, 7, \"Naimi\"]\n",
        "print(list_1)\n",
        "del list_1[2]\n",
        "print(list_1)"
      ],
      "metadata": {
        "colab": {
          "base_uri": "https://localhost:8080/"
        },
        "id": "5-sDs_80z1oT",
        "outputId": "6747f4bf-136c-4329-c5d8-d63393355287"
      },
      "execution_count": 19,
      "outputs": [
        {
          "output_type": "stream",
          "name": "stdout",
          "text": [
            "['Mohamed', 5, 7, 'Naimi']\n",
            "['Mohamed', 5, 'Naimi']\n"
          ]
        }
      ]
    },
    {
      "cell_type": "markdown",
      "source": [],
      "metadata": {
        "id": "lh9BCewYvnhH"
      }
    },
    {
      "cell_type": "code",
      "source": [
        "# join two list\n",
        "list_1 = [1, 2, 3, 4, 5]\n",
        "list_2 = [6, 7, 8, 9, 10]\n",
        "list_3 = list_1 + list_2\n",
        "print(list_3)"
      ],
      "metadata": {
        "colab": {
          "base_uri": "https://localhost:8080/"
        },
        "id": "AaIvVZha0Yl0",
        "outputId": "75e874ff-8635-49ac-8ef1-56b21aa759d3"
      },
      "execution_count": 20,
      "outputs": [
        {
          "output_type": "stream",
          "name": "stdout",
          "text": [
            "[1, 2, 3, 4, 5, 6, 7, 8, 9, 10]\n"
          ]
        }
      ]
    },
    {
      "cell_type": "markdown",
      "source": [
        "# Tuple"
      ],
      "metadata": {
        "id": "iaPy_L7O00Qm"
      }
    },
    {
      "cell_type": "code",
      "source": [
        "tuple_1=(1,2,3,4)\n",
        "print(tuple_1)\n",
        "type(tuple_1)"
      ],
      "metadata": {
        "colab": {
          "base_uri": "https://localhost:8080/"
        },
        "id": "lmF0r-Nt0-r8",
        "outputId": "5c91cc36-42dc-48f1-a3c6-b10e42d740b5"
      },
      "execution_count": 15,
      "outputs": [
        {
          "output_type": "stream",
          "name": "stdout",
          "text": [
            "(1, 2, 3, 4)\n"
          ]
        },
        {
          "output_type": "execute_result",
          "data": {
            "text/plain": [
              "tuple"
            ]
          },
          "metadata": {},
          "execution_count": 15
        }
      ]
    },
    {
      "cell_type": "code",
      "source": [
        "tuple_=(\"Mohamed\", 4, 5.82, True)\n",
        "print(tuple_)\n"
      ],
      "metadata": {
        "colab": {
          "base_uri": "https://localhost:8080/"
        },
        "id": "ux_pobWE1Q2m",
        "outputId": "d2e97c67-a032-40c8-ecbf-b842d81767b6"
      },
      "execution_count": 21,
      "outputs": [
        {
          "output_type": "stream",
          "name": "stdout",
          "text": [
            "('Mohamed', 4, 5.82, True)\n"
          ]
        }
      ]
    },
    {
      "cell_type": "code",
      "source": [
        "# converting a list to a tuple\n",
        "\n",
        "my_list = [10,45,50]\n",
        "print(my_list)\n",
        "myTuple = tuple(my_list)\n",
        "print(myTuple)\n",
        "type(myTuple)\n",
        "\n",
        "print(myTuple[0])\n",
        "print(myTuple[2])"
      ],
      "metadata": {
        "colab": {
          "base_uri": "https://localhost:8080/"
        },
        "id": "L70gnEtL1aFh",
        "outputId": "5167799a-5d81-4172-a493-5134b4d028cc"
      },
      "execution_count": 25,
      "outputs": [
        {
          "output_type": "stream",
          "name": "stdout",
          "text": [
            "[10, 45, 50]\n",
            "(10, 45, 50)\n",
            "10\n",
            "50\n"
          ]
        }
      ]
    },
    {
      "cell_type": "code",
      "source": [
        "# Tuple are Immutable -> Unchangeable\n",
        "tuple_1=(1,2,3,4)\n",
        "#tuple_1.append(4) # this will throw an error\n",
        "\n",
        "print(len(tuple_1))\n"
      ],
      "metadata": {
        "colab": {
          "base_uri": "https://localhost:8080/"
        },
        "id": "eyB4Eivt2DXh",
        "outputId": "4ff3d2aa-a072-4b9e-bd2f-93866afbefe5"
      },
      "execution_count": 28,
      "outputs": [
        {
          "output_type": "stream",
          "name": "stdout",
          "text": [
            "4\n"
          ]
        }
      ]
    },
    {
      "cell_type": "markdown",
      "source": [
        "#  Set"
      ],
      "metadata": {
        "id": "EnsYM44S2zLf"
      }
    },
    {
      "cell_type": "code",
      "source": [
        "my_set = {1,2,3,4,5}\n",
        "print(my_set)\n",
        "type(my_set)\n",
        "\n",
        "# set does not support indexing :\n",
        "#print(my_set[5])\n"
      ],
      "metadata": {
        "colab": {
          "base_uri": "https://localhost:8080/"
        },
        "id": "IfikJ95R22qo",
        "outputId": "bef7fc63-b824-47a6-9d4a-d6bb2868e628"
      },
      "execution_count": 33,
      "outputs": [
        {
          "output_type": "stream",
          "name": "stdout",
          "text": [
            "{1, 2, 3, 4, 5}\n"
          ]
        },
        {
          "output_type": "execute_result",
          "data": {
            "text/plain": [
              "set"
            ]
          },
          "metadata": {},
          "execution_count": 33
        }
      ]
    },
    {
      "cell_type": "code",
      "source": [
        "# convert a list or a tuple  to a set:\n",
        "list_5 = [10,8,20]\n",
        "tuple_5 = (80,20)\n",
        "set_1 = set(list_5)\n",
        "set_2 = set(tuple_5)\n",
        "print(set_1)\n",
        "print(set_2)"
      ],
      "metadata": {
        "colab": {
          "base_uri": "https://localhost:8080/"
        },
        "id": "mhuFDPEs3VjY",
        "outputId": "de995b14-59c6-4fdc-e7b3-e4a1e7d2c8fd"
      },
      "execution_count": 31,
      "outputs": [
        {
          "output_type": "stream",
          "name": "stdout",
          "text": [
            "{8, 10, 20}\n",
            "{80, 20}\n"
          ]
        }
      ]
    },
    {
      "cell_type": "code",
      "source": [
        "# Unlike tuples or lists, sets do not allow duplication.\n",
        "set_3 = {1,1,1,5,5,7}\n",
        "print(set_3)#{1, 5, 7}\n"
      ],
      "metadata": {
        "colab": {
          "base_uri": "https://localhost:8080/"
        },
        "id": "k0MzI3Je30Jp",
        "outputId": "4c470de9-4b37-4174-9e7a-c309f8c584cb"
      },
      "execution_count": 32,
      "outputs": [
        {
          "output_type": "stream",
          "name": "stdout",
          "text": [
            "{1, 5, 7}\n"
          ]
        }
      ]
    },
    {
      "cell_type": "markdown",
      "source": [
        "# Dictionary\n",
        "Key-Value Pair"
      ],
      "metadata": {
        "id": "exAb7p2l4mz9"
      }
    },
    {
      "cell_type": "code",
      "source": [
        "my_dictionary = {\"name\": \"Mohamed\", \"age\":20 ,\"email\":\"mohamed@gamil.com\"}\n",
        "print(my_dictionary)\n",
        "type(my_dictionary)\n",
        "print(len(my_dictionary))\n",
        "\n",
        "print(my_dictionary[\"name\"])\n",
        "print(my_dictionary[\"age\"])\n",
        "print(my_dictionary[\"email\"])\n"
      ],
      "metadata": {
        "colab": {
          "base_uri": "https://localhost:8080/"
        },
        "id": "syAtbEQA4uFN",
        "outputId": "a8b5e912-c3a9-431f-dbed-8c62281a958a"
      },
      "execution_count": 38,
      "outputs": [
        {
          "output_type": "stream",
          "name": "stdout",
          "text": [
            "{'name': 'Mohamed', 'age': 20, 'email': 'mohamed@gamil.com'}\n",
            "3\n",
            "Mohamed\n",
            "20\n",
            "mohamed@gamil.com\n"
          ]
        }
      ]
    },
    {
      "cell_type": "code",
      "source": [
        "# like sets Dictionary do not allow duplication.\n",
        "\n",
        "dictionnaire = {\"name\": \"Mohamed\", \"age\":20 ,\"email\":\"mohamed@gamil.com\",\"name\": \"Mohamed\", \"age\":20 ,\"email\":\"mohamed@gamil.com\"}\n",
        "print(dictionnaire)\n",
        "type(dictionnaire)"
      ],
      "metadata": {
        "colab": {
          "base_uri": "https://localhost:8080/"
        },
        "id": "eURjJlA05k2P",
        "outputId": "9063888c-24c7-4f71-e7cb-5179c09574ae"
      },
      "execution_count": 41,
      "outputs": [
        {
          "output_type": "stream",
          "name": "stdout",
          "text": [
            "{'name': 'Mohamed', 'age': 20, 'email': 'mohamed@gamil.com'}\n"
          ]
        },
        {
          "output_type": "execute_result",
          "data": {
            "text/plain": [
              "dict"
            ]
          },
          "metadata": {},
          "execution_count": 41
        }
      ]
    }
  ]
}