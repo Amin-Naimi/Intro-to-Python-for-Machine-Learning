{
  "nbformat": 4,
  "nbformat_minor": 0,
  "metadata": {
    "colab": {
      "provenance": []
    },
    "kernelspec": {
      "name": "python3",
      "display_name": "Python 3"
    },
    "language_info": {
      "name": "python"
    }
  },
  "cells": [
    {
      "cell_type": "markdown",
      "source": [
        "# Operators in Python\n",
        "\n",
        "1. Arithmetic Operators\n",
        "2. Assignment Operators\n",
        "3. Comparison Operators\n",
        "4. Logical Operators\n",
        "5. Identity Operators\n",
        "6. Membership Operators"
      ],
      "metadata": {
        "id": "s7eRyUri7NVF"
      }
    },
    {
      "cell_type": "markdown",
      "source": [
        "##1. Arithmetic Operators:\n"
      ],
      "metadata": {
        "id": "jATe_zFi8rBY"
      }
    },
    {
      "cell_type": "code",
      "execution_count": null,
      "metadata": {
        "id": "IusXkozU7JqO"
      },
      "outputs": [],
      "source": [
        "+ : Addition\n",
        "- : Soustraction\n",
        "* : Multiplication\n",
        "/ : Division\n",
        "% : Modulo (reste de la division)\n",
        "// : Division entière (retourne le quotient entier)\n",
        "** : Exponentiation (élévation à la puissance)"
      ]
    },
    {
      "cell_type": "markdown",
      "source": [
        "# 2. Assignment Operators"
      ],
      "metadata": {
        "id": "WZ62OzGX9Gp0"
      }
    },
    {
      "cell_type": "code",
      "source": [
        "Assignation simple : =\n",
        "Additions et assignations : +=\n",
        "Soustractions et assignations : -=\n",
        "Multiplications et assignations : *=\n",
        "Divisions et assignations : /="
      ],
      "metadata": {
        "id": "B5uAC9dd9Tsm"
      },
      "execution_count": null,
      "outputs": []
    },
    {
      "cell_type": "markdown",
      "source": [
        "# 3. Comparison Operators"
      ],
      "metadata": {
        "id": "eO9L1yjo9fE-"
      }
    },
    {
      "cell_type": "code",
      "source": [
        "Égal à : ==\n",
        "Pas égal à : !=\n",
        "Plus grand que : >\n",
        "Plus petit que : <\n",
        "Plus grand ou égal à : >=\n",
        "Plus petit ou égal à : <="
      ],
      "metadata": {
        "id": "UNOHBjuI9iht"
      },
      "execution_count": null,
      "outputs": []
    },
    {
      "cell_type": "markdown",
      "source": [
        "# 4. Logical Operators\n"
      ],
      "metadata": {
        "id": "-mawMxg09qCl"
      }
    },
    {
      "cell_type": "code",
      "source": [
        "ET logique : and\n",
        "OU logique : or\n",
        "NON logique : not"
      ],
      "metadata": {
        "id": "x5InTrR79r_u"
      },
      "execution_count": null,
      "outputs": []
    },
    {
      "cell_type": "markdown",
      "source": [
        "#5. Identity Operators\n"
      ],
      "metadata": {
        "id": "I-OFYm5z9v0k"
      }
    },
    {
      "cell_type": "code",
      "source": [
        "is\n",
        "is not"
      ],
      "metadata": {
        "id": "dvMuIheT93fe"
      },
      "execution_count": null,
      "outputs": []
    },
    {
      "cell_type": "markdown",
      "source": [
        "# 6. Membership Operators"
      ],
      "metadata": {
        "id": "ALPn0xi09-3G"
      }
    },
    {
      "cell_type": "code",
      "source": [
        "Appartenance : in\n",
        "Non appartenance : not in"
      ],
      "metadata": {
        "id": "YB_5tpF5-Da4"
      },
      "execution_count": null,
      "outputs": []
    }
  ]
}